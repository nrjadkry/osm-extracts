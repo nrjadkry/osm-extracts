{
 "cells": [
  {
   "cell_type": "code",
   "execution_count": 21,
   "id": "91f915d5",
   "metadata": {},
   "outputs": [],
   "source": [
    "base_url = \"https://raw-data-api0.hotosm.org/v1\"\n",
    "headers = {\"accept\": \"application/json\", \"Content-Type\": \"application/json\"}"
   ]
  },
  {
   "cell_type": "code",
   "execution_count": 33,
   "id": "8d4c3c5d",
   "metadata": {},
   "outputs": [
    {
     "data": {
      "text/plain": [
       "'https://raw-data-api0.hotosm.org/v1/snapshot/'"
      ]
     },
     "execution_count": 33,
     "metadata": {},
     "output_type": "execute_result"
    }
   ],
   "source": [
    "query_url = f\"{base_url}/snapshot/\"\n",
    "query_url"
   ]
  },
  {
   "cell_type": "code",
   "execution_count": 118,
   "id": "0cedb7dd",
   "metadata": {},
   "outputs": [],
   "source": [
    "import requests\n",
    "import json\n",
    "import zipfile\n",
    "from io import BytesIO\n",
    "import numpy as np\n",
    "import pandas as pd"
   ]
  },
  {
   "cell_type": "code",
   "execution_count": null,
   "id": "4e62b58b",
   "metadata": {},
   "outputs": [],
   "source": [
    "pip install folium"
   ]
  },
  {
   "cell_type": "code",
   "execution_count": null,
   "id": "fcb787c3",
   "metadata": {},
   "outputs": [],
   "source": [
    "import folium"
   ]
  },
  {
   "cell_type": "code",
   "execution_count": 164,
   "id": "489dc3bd",
   "metadata": {},
   "outputs": [],
   "source": [
    "m = folium.Map(location=[27.6866, 83.4323], \n",
    "                 zoom_start=10, control_scale=True)"
   ]
  },
  {
   "cell_type": "code",
   "execution_count": 152,
   "id": "4b9bc8de",
   "metadata": {},
   "outputs": [],
   "source": [
    "query={\"geometry\": {\"type\": \"Polygon\", \"coordinates\": [[[85.314267262, 27.708944912], [85.304948177, 27.695326815], [85.332592395, 27.694783741], [85.334081941, 27.711423854], [85.314267262, 27.708944912]]]}, \"filters\": {\"tags\": {\"all_geometry\": {\"join_or\": {\"amenity\": [\"college\", \"indergarten\", \"school\", \"music_school\", \"language_school\", \"university\"]}}}}, \"geometryType\": [\"point\", \"polygon\"], \"centroid\": \"true\"}"
   ]
  },
  {
   "cell_type": "code",
   "execution_count": 163,
   "id": "d7e71b4d",
   "metadata": {},
   "outputs": [],
   "source": [
    "geom = {\n",
    "  \"type\": \"FeatureCollection\",\n",
    "  \"features\": [\n",
    "    {\n",
    "      \"type\": \"Feature\",\n",
    "      \"properties\": {},\n",
    "      \"geometry\": {\n",
    "        \"coordinates\": [\n",
    "          [\n",
    "            [\n",
    "              85.31426726223691,\n",
    "              27.70894491154847\n",
    "            ],\n",
    "            [\n",
    "              85.30494817745944,\n",
    "              27.695326814805895\n",
    "            ],\n",
    "            [\n",
    "              85.33259239548863,\n",
    "              27.694783740754275\n",
    "            ],\n",
    "            [\n",
    "              85.33408194130885,\n",
    "              27.711423854043616\n",
    "            ],\n",
    "            [\n",
    "              85.31426726223691,\n",
    "              27.70894491154847\n",
    "            ]\n",
    "          ]\n",
    "        ],\n",
    "        \"type\": \"Polygon\"\n",
    "      }\n",
    "    }\n",
    "  ]\n",
    "}"
   ]
  },
  {
   "cell_type": "code",
   "execution_count": 165,
   "id": "f92a4549",
   "metadata": {},
   "outputs": [
    {
     "data": {
      "text/html": [
       "<div style=\"width:100%;\"><div style=\"position:relative;width:100%;height:0;padding-bottom:60%;\"><span style=\"color:#565656\">Make this Notebook Trusted to load map: File -> Trust Notebook</span><iframe srcdoc=\"&lt;!DOCTYPE html&gt;\n",
       "&lt;html&gt;\n",
       "&lt;head&gt;\n",
       "    \n",
       "    &lt;meta http-equiv=&quot;content-type&quot; content=&quot;text/html; charset=UTF-8&quot; /&gt;\n",
       "    \n",
       "        &lt;script&gt;\n",
       "            L_NO_TOUCH = false;\n",
       "            L_DISABLE_3D = false;\n",
       "        &lt;/script&gt;\n",
       "    \n",
       "    &lt;style&gt;html, body {width: 100%;height: 100%;margin: 0;padding: 0;}&lt;/style&gt;\n",
       "    &lt;style&gt;#map {position:absolute;top:0;bottom:0;right:0;left:0;}&lt;/style&gt;\n",
       "    &lt;script src=&quot;https://cdn.jsdelivr.net/npm/leaflet@1.9.3/dist/leaflet.js&quot;&gt;&lt;/script&gt;\n",
       "    &lt;script src=&quot;https://code.jquery.com/jquery-1.12.4.min.js&quot;&gt;&lt;/script&gt;\n",
       "    &lt;script src=&quot;https://cdn.jsdelivr.net/npm/bootstrap@5.2.2/dist/js/bootstrap.bundle.min.js&quot;&gt;&lt;/script&gt;\n",
       "    &lt;script src=&quot;https://cdnjs.cloudflare.com/ajax/libs/Leaflet.awesome-markers/2.0.2/leaflet.awesome-markers.js&quot;&gt;&lt;/script&gt;\n",
       "    &lt;link rel=&quot;stylesheet&quot; href=&quot;https://cdn.jsdelivr.net/npm/leaflet@1.9.3/dist/leaflet.css&quot;/&gt;\n",
       "    &lt;link rel=&quot;stylesheet&quot; href=&quot;https://cdn.jsdelivr.net/npm/bootstrap@5.2.2/dist/css/bootstrap.min.css&quot;/&gt;\n",
       "    &lt;link rel=&quot;stylesheet&quot; href=&quot;https://netdna.bootstrapcdn.com/bootstrap/3.0.0/css/bootstrap.min.css&quot;/&gt;\n",
       "    &lt;link rel=&quot;stylesheet&quot; href=&quot;https://cdn.jsdelivr.net/npm/@fortawesome/fontawesome-free@6.2.0/css/all.min.css&quot;/&gt;\n",
       "    &lt;link rel=&quot;stylesheet&quot; href=&quot;https://cdnjs.cloudflare.com/ajax/libs/Leaflet.awesome-markers/2.0.2/leaflet.awesome-markers.css&quot;/&gt;\n",
       "    &lt;link rel=&quot;stylesheet&quot; href=&quot;https://cdn.jsdelivr.net/gh/python-visualization/folium/folium/templates/leaflet.awesome.rotate.min.css&quot;/&gt;\n",
       "    \n",
       "            &lt;meta name=&quot;viewport&quot; content=&quot;width=device-width,\n",
       "                initial-scale=1.0, maximum-scale=1.0, user-scalable=no&quot; /&gt;\n",
       "            &lt;style&gt;\n",
       "                #map_c5e89978894b3435aed1fb58ec9d7e11 {\n",
       "                    position: relative;\n",
       "                    width: 100.0%;\n",
       "                    height: 100.0%;\n",
       "                    left: 0.0%;\n",
       "                    top: 0.0%;\n",
       "                }\n",
       "                .leaflet-container { font-size: 1rem; }\n",
       "            &lt;/style&gt;\n",
       "        \n",
       "&lt;/head&gt;\n",
       "&lt;body&gt;\n",
       "    \n",
       "    \n",
       "            &lt;div class=&quot;folium-map&quot; id=&quot;map_c5e89978894b3435aed1fb58ec9d7e11&quot; &gt;&lt;/div&gt;\n",
       "        \n",
       "&lt;/body&gt;\n",
       "&lt;script&gt;\n",
       "    \n",
       "    \n",
       "            var map_c5e89978894b3435aed1fb58ec9d7e11 = L.map(\n",
       "                &quot;map_c5e89978894b3435aed1fb58ec9d7e11&quot;,\n",
       "                {\n",
       "                    center: [27.6866, 83.4323],\n",
       "                    crs: L.CRS.EPSG3857,\n",
       "                    zoom: 10,\n",
       "                    zoomControl: true,\n",
       "                    preferCanvas: false,\n",
       "                }\n",
       "            );\n",
       "            L.control.scale().addTo(map_c5e89978894b3435aed1fb58ec9d7e11);\n",
       "\n",
       "            \n",
       "\n",
       "        \n",
       "    \n",
       "            var tile_layer_5ed13d411a7d3af6c4f617fc6ebc6d6e = L.tileLayer(\n",
       "                &quot;https://{s}.tile.openstreetmap.org/{z}/{x}/{y}.png&quot;,\n",
       "                {&quot;attribution&quot;: &quot;Data by \\u0026copy; \\u003ca target=\\&quot;_blank\\&quot; href=\\&quot;http://openstreetmap.org\\&quot;\\u003eOpenStreetMap\\u003c/a\\u003e, under \\u003ca target=\\&quot;_blank\\&quot; href=\\&quot;http://www.openstreetmap.org/copyright\\&quot;\\u003eODbL\\u003c/a\\u003e.&quot;, &quot;detectRetina&quot;: false, &quot;maxNativeZoom&quot;: 18, &quot;maxZoom&quot;: 18, &quot;minZoom&quot;: 0, &quot;noWrap&quot;: false, &quot;opacity&quot;: 1, &quot;subdomains&quot;: &quot;abc&quot;, &quot;tms&quot;: false}\n",
       "            ).addTo(map_c5e89978894b3435aed1fb58ec9d7e11);\n",
       "        \n",
       "    \n",
       "\n",
       "        function geo_json_d089dff436f55e6d2e499b0279620e6b_onEachFeature(feature, layer) {\n",
       "            layer.on({\n",
       "            });\n",
       "        };\n",
       "        var geo_json_d089dff436f55e6d2e499b0279620e6b = L.geoJson(null, {\n",
       "                onEachFeature: geo_json_d089dff436f55e6d2e499b0279620e6b_onEachFeature,\n",
       "            \n",
       "        });\n",
       "\n",
       "        function geo_json_d089dff436f55e6d2e499b0279620e6b_add (data) {\n",
       "            geo_json_d089dff436f55e6d2e499b0279620e6b\n",
       "                .addData(data)\n",
       "                .addTo(map_c5e89978894b3435aed1fb58ec9d7e11);\n",
       "        }\n",
       "            geo_json_d089dff436f55e6d2e499b0279620e6b_add({&quot;features&quot;: [{&quot;geometry&quot;: {&quot;coordinates&quot;: [[[85.31426726223691, 27.70894491154847], [85.30494817745944, 27.695326814805895], [85.33259239548863, 27.694783740754275], [85.33408194130885, 27.711423854043616], [85.31426726223691, 27.70894491154847]]], &quot;type&quot;: &quot;Polygon&quot;}, &quot;properties&quot;: {}, &quot;type&quot;: &quot;Feature&quot;}], &quot;type&quot;: &quot;FeatureCollection&quot;});\n",
       "\n",
       "        \n",
       "&lt;/script&gt;\n",
       "&lt;/html&gt;\" style=\"position:absolute;width:100%;height:100%;left:0;top:0;border:none !important;\" allowfullscreen webkitallowfullscreen mozallowfullscreen></iframe></div></div>"
      ],
      "text/plain": [
       "<folium.folium.Map at 0x7f07e0a2e260>"
      ]
     },
     "execution_count": 165,
     "metadata": {},
     "output_type": "execute_result"
    }
   ],
   "source": [
    "m.add_child(folium.GeoJson(data = geom))"
   ]
  },
  {
   "cell_type": "code",
   "execution_count": 145,
   "id": "4a713508",
   "metadata": {},
   "outputs": [
    {
     "data": {
      "text/plain": [
       "200"
      ]
     },
     "execution_count": 145,
     "metadata": {},
     "output_type": "execute_result"
    }
   ],
   "source": [
    "result = requests.post(query_url, data=json.dumps(query), headers=headers)\n",
    "result.status_code"
   ]
  },
  {
   "cell_type": "code",
   "execution_count": 146,
   "id": "47f5d59f",
   "metadata": {},
   "outputs": [],
   "source": [
    "if result.status_code == 200:\n",
    "    task_id = result.json()['task_id']\n",
    "    task_id"
   ]
  },
  {
   "cell_type": "code",
   "execution_count": 147,
   "id": "dacdca33",
   "metadata": {},
   "outputs": [
    {
     "data": {
      "text/plain": [
       "{'id': '1ae562cd-f0d3-4006-97f9-1ae721c27dc5',\n",
       " 'status': 'SUCCESS',\n",
       " 'result': {'download_url': 'https://s3.us-east-1.amazonaws.com/exports-stage.hotosm.org/Export_geojson_uid_1ae562cd-f0d3-4006-97f9-1ae721c27dc5.zip',\n",
       "  'file_name': 'Export',\n",
       "  'process_time': '0:00:01.198945',\n",
       "  'query_area': '0.06 Sq Km',\n",
       "  'binded_file_size': '0.01 MB',\n",
       "  'zip_file_size_bytes': 1433}}"
      ]
     },
     "execution_count": 147,
     "metadata": {},
     "output_type": "execute_result"
    }
   ],
   "source": [
    "task_url = f\"{base_url}/tasks/status/{task_id}\"\n",
    "# extracts = requests.get(task_url)\n",
    "while True:\n",
    "    result = requests.get(task_url, headers=headers)\n",
    "    if result.json()['status'] == \"PENDING\":\n",
    "        time.sleep(1)\n",
    "    elif result.json()['status'] == \"SUCCESS\":\n",
    "        break\n",
    "extracts.json()"
   ]
  },
  {
   "cell_type": "code",
   "execution_count": 151,
   "id": "ad11b5fa",
   "metadata": {},
   "outputs": [],
   "source": [
    "zip_url = extracts.json()['result']['download_url']\n",
    "zip_url\n",
    "result = requests.get(zip_url, headers=headers)\n",
    "# result.content\n",
    "fp = BytesIO(result.content)\n",
    "zfp = zipfile.ZipFile(fp, \"r\")\n",
    "zfp.extract(\"Export.geojson\", \"/tmp/\")\n",
    "data = eval(zfp.read(\"Export.geojson\"))\n"
   ]
  },
  {
   "cell_type": "code",
   "execution_count": 80,
   "id": "e7b6a507",
   "metadata": {},
   "outputs": [],
   "source": [
    "import pandas as pd\n",
    "import numpy as np"
   ]
  },
  {
   "cell_type": "code",
   "execution_count": 140,
   "id": "a65152ed",
   "metadata": {},
   "outputs": [
    {
     "data": {
      "text/html": [
       "<div style=\"width:100%;\"><div style=\"position:relative;width:100%;height:0;padding-bottom:60%;\"><span style=\"color:#565656\">Make this Notebook Trusted to load map: File -> Trust Notebook</span><iframe srcdoc=\"&lt;!DOCTYPE html&gt;\n",
       "&lt;html&gt;\n",
       "&lt;head&gt;\n",
       "    \n",
       "    &lt;meta http-equiv=&quot;content-type&quot; content=&quot;text/html; charset=UTF-8&quot; /&gt;\n",
       "    \n",
       "        &lt;script&gt;\n",
       "            L_NO_TOUCH = false;\n",
       "            L_DISABLE_3D = false;\n",
       "        &lt;/script&gt;\n",
       "    \n",
       "    &lt;style&gt;html, body {width: 100%;height: 100%;margin: 0;padding: 0;}&lt;/style&gt;\n",
       "    &lt;style&gt;#map {position:absolute;top:0;bottom:0;right:0;left:0;}&lt;/style&gt;\n",
       "    &lt;script src=&quot;https://cdn.jsdelivr.net/npm/leaflet@1.9.3/dist/leaflet.js&quot;&gt;&lt;/script&gt;\n",
       "    &lt;script src=&quot;https://code.jquery.com/jquery-1.12.4.min.js&quot;&gt;&lt;/script&gt;\n",
       "    &lt;script src=&quot;https://cdn.jsdelivr.net/npm/bootstrap@5.2.2/dist/js/bootstrap.bundle.min.js&quot;&gt;&lt;/script&gt;\n",
       "    &lt;script src=&quot;https://cdnjs.cloudflare.com/ajax/libs/Leaflet.awesome-markers/2.0.2/leaflet.awesome-markers.js&quot;&gt;&lt;/script&gt;\n",
       "    &lt;link rel=&quot;stylesheet&quot; href=&quot;https://cdn.jsdelivr.net/npm/leaflet@1.9.3/dist/leaflet.css&quot;/&gt;\n",
       "    &lt;link rel=&quot;stylesheet&quot; href=&quot;https://cdn.jsdelivr.net/npm/bootstrap@5.2.2/dist/css/bootstrap.min.css&quot;/&gt;\n",
       "    &lt;link rel=&quot;stylesheet&quot; href=&quot;https://netdna.bootstrapcdn.com/bootstrap/3.0.0/css/bootstrap.min.css&quot;/&gt;\n",
       "    &lt;link rel=&quot;stylesheet&quot; href=&quot;https://cdn.jsdelivr.net/npm/@fortawesome/fontawesome-free@6.2.0/css/all.min.css&quot;/&gt;\n",
       "    &lt;link rel=&quot;stylesheet&quot; href=&quot;https://cdnjs.cloudflare.com/ajax/libs/Leaflet.awesome-markers/2.0.2/leaflet.awesome-markers.css&quot;/&gt;\n",
       "    &lt;link rel=&quot;stylesheet&quot; href=&quot;https://cdn.jsdelivr.net/gh/python-visualization/folium/folium/templates/leaflet.awesome.rotate.min.css&quot;/&gt;\n",
       "    \n",
       "            &lt;meta name=&quot;viewport&quot; content=&quot;width=device-width,\n",
       "                initial-scale=1.0, maximum-scale=1.0, user-scalable=no&quot; /&gt;\n",
       "            &lt;style&gt;\n",
       "                #map_32aabc0709cc391c0a32c18955f6b96d {\n",
       "                    position: relative;\n",
       "                    width: 100.0%;\n",
       "                    height: 100.0%;\n",
       "                    left: 0.0%;\n",
       "                    top: 0.0%;\n",
       "                }\n",
       "                .leaflet-container { font-size: 1rem; }\n",
       "            &lt;/style&gt;\n",
       "        \n",
       "&lt;/head&gt;\n",
       "&lt;body&gt;\n",
       "    \n",
       "    \n",
       "            &lt;div class=&quot;folium-map&quot; id=&quot;map_32aabc0709cc391c0a32c18955f6b96d&quot; &gt;&lt;/div&gt;\n",
       "        \n",
       "&lt;/body&gt;\n",
       "&lt;script&gt;\n",
       "    \n",
       "    \n",
       "            var map_32aabc0709cc391c0a32c18955f6b96d = L.map(\n",
       "                &quot;map_32aabc0709cc391c0a32c18955f6b96d&quot;,\n",
       "                {\n",
       "                    center: [26.988004657147854, 82.96738173485227],\n",
       "                    crs: L.CRS.EPSG3857,\n",
       "                    zoom: 10,\n",
       "                    zoomControl: true,\n",
       "                    preferCanvas: false,\n",
       "                }\n",
       "            );\n",
       "\n",
       "            \n",
       "\n",
       "        \n",
       "    \n",
       "            var tile_layer_f0a04a03c00af1b0d55e6fc410c82c40 = L.tileLayer(\n",
       "                &quot;https://{s}.tile.openstreetmap.org/{z}/{x}/{y}.png&quot;,\n",
       "                {&quot;attribution&quot;: &quot;Data by \\u0026copy; \\u003ca target=\\&quot;_blank\\&quot; href=\\&quot;http://openstreetmap.org\\&quot;\\u003eOpenStreetMap\\u003c/a\\u003e, under \\u003ca target=\\&quot;_blank\\&quot; href=\\&quot;http://www.openstreetmap.org/copyright\\&quot;\\u003eODbL\\u003c/a\\u003e.&quot;, &quot;detectRetina&quot;: false, &quot;maxNativeZoom&quot;: 18, &quot;maxZoom&quot;: 18, &quot;minZoom&quot;: 0, &quot;noWrap&quot;: false, &quot;opacity&quot;: 1, &quot;subdomains&quot;: &quot;abc&quot;, &quot;tms&quot;: false}\n",
       "            ).addTo(map_32aabc0709cc391c0a32c18955f6b96d);\n",
       "        \n",
       "    \n",
       "\n",
       "        function geo_json_15dbf90e568577d48f1a254f0131912e_onEachFeature(feature, layer) {\n",
       "            layer.on({\n",
       "            });\n",
       "        };\n",
       "        var geo_json_15dbf90e568577d48f1a254f0131912e = L.geoJson(null, {\n",
       "                onEachFeature: geo_json_15dbf90e568577d48f1a254f0131912e_onEachFeature,\n",
       "            \n",
       "        });\n",
       "\n",
       "        function geo_json_15dbf90e568577d48f1a254f0131912e_add (data) {\n",
       "            geo_json_15dbf90e568577d48f1a254f0131912e\n",
       "                .addData(data)\n",
       "                .addTo(map_32aabc0709cc391c0a32c18955f6b96d);\n",
       "        }\n",
       "            geo_json_15dbf90e568577d48f1a254f0131912e_add({&quot;features&quot;: [{&quot;geometry&quot;: {&quot;coordinates&quot;: [83.283963869, 27.699786397], &quot;type&quot;: &quot;Point&quot;}, &quot;properties&quot;: {&quot;changeset&quot;: 114385577, &quot;osm_id&quot;: 1007530983, &quot;tags&quot;: {&quot;building&quot;: &quot;yes&quot;}, &quot;timestamp&quot;: &quot;2021-11-30T04:48:25&quot;, &quot;version&quot;: 1}, &quot;type&quot;: &quot;Feature&quot;}, {&quot;geometry&quot;: {&quot;coordinates&quot;: [83.283771213, 27.699894573], &quot;type&quot;: &quot;Point&quot;}, &quot;properties&quot;: {&quot;changeset&quot;: 114385577, &quot;osm_id&quot;: 1007530987, &quot;tags&quot;: {&quot;building&quot;: &quot;yes&quot;}, &quot;timestamp&quot;: &quot;2021-11-30T04:48:25&quot;, &quot;version&quot;: 1}, &quot;type&quot;: &quot;Feature&quot;}, {&quot;geometry&quot;: {&quot;coordinates&quot;: [83.2832628, 27.70099635], &quot;type&quot;: &quot;Point&quot;}, &quot;properties&quot;: {&quot;changeset&quot;: 114385577, &quot;osm_id&quot;: 1007530994, &quot;tags&quot;: {&quot;building&quot;: &quot;yes&quot;}, &quot;timestamp&quot;: &quot;2021-11-30T04:48:25&quot;, &quot;version&quot;: 1}, &quot;type&quot;: &quot;Feature&quot;}, {&quot;geometry&quot;: {&quot;coordinates&quot;: [83.281745, 27.7011047], &quot;type&quot;: &quot;Point&quot;}, &quot;properties&quot;: {&quot;changeset&quot;: 114385577, &quot;osm_id&quot;: 1007531009, &quot;tags&quot;: {&quot;building&quot;: &quot;yes&quot;}, &quot;timestamp&quot;: &quot;2021-11-30T04:48:25&quot;, &quot;version&quot;: 1}, &quot;type&quot;: &quot;Feature&quot;}, {&quot;geometry&quot;: {&quot;coordinates&quot;: [83.281466, 27.70107715], &quot;type&quot;: &quot;Point&quot;}, &quot;properties&quot;: {&quot;changeset&quot;: 114385577, &quot;osm_id&quot;: 1007531012, &quot;tags&quot;: {&quot;building&quot;: &quot;yes&quot;}, &quot;timestamp&quot;: &quot;2021-11-30T04:48:25&quot;, &quot;version&quot;: 1}, &quot;type&quot;: &quot;Feature&quot;}, {&quot;geometry&quot;: {&quot;coordinates&quot;: [83.283585711, 27.700956274], &quot;type&quot;: &quot;Point&quot;}, &quot;properties&quot;: {&quot;changeset&quot;: 114385577, &quot;osm_id&quot;: 1007530995, &quot;tags&quot;: {&quot;building&quot;: &quot;yes&quot;}, &quot;timestamp&quot;: &quot;2021-11-30T04:48:25&quot;, &quot;version&quot;: 1}, &quot;type&quot;: &quot;Feature&quot;}, {&quot;geometry&quot;: {&quot;coordinates&quot;: [83.2816565, 27.700283], &quot;type&quot;: &quot;Point&quot;}, &quot;properties&quot;: {&quot;changeset&quot;: 114385577, &quot;osm_id&quot;: 1007530992, &quot;tags&quot;: {&quot;building&quot;: &quot;yes&quot;}, &quot;timestamp&quot;: &quot;2021-11-30T04:48:25&quot;, &quot;version&quot;: 1}, &quot;type&quot;: &quot;Feature&quot;}, {&quot;geometry&quot;: {&quot;coordinates&quot;: [83.281696, 27.70036545], &quot;type&quot;: &quot;Point&quot;}, &quot;properties&quot;: {&quot;changeset&quot;: 114385577, &quot;osm_id&quot;: 1007530993, &quot;tags&quot;: {&quot;building&quot;: &quot;yes&quot;}, &quot;timestamp&quot;: &quot;2021-11-30T04:48:25&quot;, &quot;version&quot;: 1}, &quot;type&quot;: &quot;Feature&quot;}, {&quot;geometry&quot;: {&quot;coordinates&quot;: [83.283333279, 27.700907756], &quot;type&quot;: &quot;Point&quot;}, &quot;properties&quot;: {&quot;changeset&quot;: 114385577, &quot;osm_id&quot;: 1007531000, &quot;tags&quot;: {&quot;building&quot;: &quot;yes&quot;}, &quot;timestamp&quot;: &quot;2021-11-30T04:48:25&quot;, &quot;version&quot;: 1}, &quot;type&quot;: &quot;Feature&quot;}, {&quot;geometry&quot;: {&quot;coordinates&quot;: [83.282743458, 27.701016824], &quot;type&quot;: &quot;Point&quot;}, &quot;properties&quot;: {&quot;changeset&quot;: 114385577, &quot;osm_id&quot;: 1007531002, &quot;tags&quot;: {&quot;building&quot;: &quot;yes&quot;}, &quot;timestamp&quot;: &quot;2021-11-30T04:48:25&quot;, &quot;version&quot;: 1}, &quot;type&quot;: &quot;Feature&quot;}, {&quot;geometry&quot;: {&quot;coordinates&quot;: [83.28189695, 27.7010578], &quot;type&quot;: &quot;Point&quot;}, &quot;properties&quot;: {&quot;changeset&quot;: 115130921, &quot;osm_id&quot;: 1013519435, &quot;tags&quot;: {&quot;building&quot;: &quot;yes&quot;}, &quot;timestamp&quot;: &quot;2021-12-19T15:54:03&quot;, &quot;version&quot;: 1}, &quot;type&quot;: &quot;Feature&quot;}, {&quot;geometry&quot;: {&quot;coordinates&quot;: [83.28356672, 27.700073043], &quot;type&quot;: &quot;Point&quot;}, &quot;properties&quot;: {&quot;changeset&quot;: 114336624, &quot;osm_id&quot;: 1007131082, &quot;tags&quot;: {&quot;building&quot;: &quot;yes&quot;}, &quot;timestamp&quot;: &quot;2021-11-28T20:30:59&quot;, &quot;version&quot;: 1}, &quot;type&quot;: &quot;Feature&quot;}, {&quot;geometry&quot;: {&quot;coordinates&quot;: [83.283176359, 27.69963037], &quot;type&quot;: &quot;Point&quot;}, &quot;properties&quot;: {&quot;changeset&quot;: 114336624, &quot;osm_id&quot;: 1007131078, &quot;tags&quot;: {&quot;building&quot;: &quot;yes&quot;}, &quot;timestamp&quot;: &quot;2021-11-28T20:30:59&quot;, &quot;version&quot;: 1}, &quot;type&quot;: &quot;Feature&quot;}, {&quot;geometry&quot;: {&quot;coordinates&quot;: [83.2838167, 27.69980565], &quot;type&quot;: &quot;Point&quot;}, &quot;properties&quot;: {&quot;changeset&quot;: 114385577, &quot;osm_id&quot;: 1007530985, &quot;tags&quot;: {&quot;building&quot;: &quot;yes&quot;}, &quot;timestamp&quot;: &quot;2021-11-30T04:48:25&quot;, &quot;version&quot;: 1}, &quot;type&quot;: &quot;Feature&quot;}, {&quot;geometry&quot;: {&quot;coordinates&quot;: [83.283902491, 27.699814881], &quot;type&quot;: &quot;Point&quot;}, &quot;properties&quot;: {&quot;changeset&quot;: 114385577, &quot;osm_id&quot;: 1007530984, &quot;tags&quot;: {&quot;building&quot;: &quot;yes&quot;}, &quot;timestamp&quot;: &quot;2021-11-30T04:48:25&quot;, &quot;version&quot;: 1}, &quot;type&quot;: &quot;Feature&quot;}, {&quot;geometry&quot;: {&quot;coordinates&quot;: [83.283647765, 27.700784919], &quot;type&quot;: &quot;Point&quot;}, &quot;properties&quot;: {&quot;changeset&quot;: 114385577, &quot;osm_id&quot;: 1007530998, &quot;tags&quot;: {&quot;building&quot;: &quot;yes&quot;}, &quot;timestamp&quot;: &quot;2021-11-30T04:48:25&quot;, &quot;version&quot;: 1}, &quot;type&quot;: &quot;Feature&quot;}, {&quot;geometry&quot;: {&quot;coordinates&quot;: [83.2830966, 27.699652], &quot;type&quot;: &quot;Point&quot;}, &quot;properties&quot;: {&quot;changeset&quot;: 114336624, &quot;osm_id&quot;: 1007131077, &quot;tags&quot;: {&quot;building&quot;: &quot;yes&quot;}, &quot;timestamp&quot;: &quot;2021-11-28T20:30:59&quot;, &quot;version&quot;: 1}, &quot;type&quot;: &quot;Feature&quot;}, {&quot;geometry&quot;: {&quot;coordinates&quot;: [83.283034454, 27.699738917], &quot;type&quot;: &quot;Point&quot;}, &quot;properties&quot;: {&quot;changeset&quot;: 114336624, &quot;osm_id&quot;: 1007131079, &quot;tags&quot;: {&quot;building&quot;: &quot;yes&quot;}, &quot;timestamp&quot;: &quot;2021-11-28T20:30:59&quot;, &quot;version&quot;: 1}, &quot;type&quot;: &quot;Feature&quot;}, {&quot;geometry&quot;: {&quot;coordinates&quot;: [83.282802943, 27.699979326], &quot;type&quot;: &quot;Point&quot;}, &quot;properties&quot;: {&quot;changeset&quot;: 114336624, &quot;osm_id&quot;: 1007131092, &quot;tags&quot;: {&quot;building&quot;: &quot;yes&quot;}, &quot;timestamp&quot;: &quot;2021-11-28T20:30:59&quot;, &quot;version&quot;: 1}, &quot;type&quot;: &quot;Feature&quot;}, {&quot;geometry&quot;: {&quot;coordinates&quot;: [83.2826713, 27.70007325], &quot;type&quot;: &quot;Point&quot;}, &quot;properties&quot;: {&quot;changeset&quot;: 114336624, &quot;osm_id&quot;: 1007131093, &quot;tags&quot;: {&quot;building&quot;: &quot;yes&quot;}, &quot;timestamp&quot;: &quot;2021-11-28T20:30:59&quot;, &quot;version&quot;: 1}, &quot;type&quot;: &quot;Feature&quot;}, {&quot;geometry&quot;: {&quot;coordinates&quot;: [83.282596648, 27.699982032], &quot;type&quot;: &quot;Point&quot;}, &quot;properties&quot;: {&quot;changeset&quot;: 114336624, &quot;osm_id&quot;: 1007131094, &quot;tags&quot;: {&quot;building&quot;: &quot;yes&quot;}, &quot;timestamp&quot;: &quot;2021-11-28T20:30:59&quot;, &quot;version&quot;: 1}, &quot;type&quot;: &quot;Feature&quot;}, {&quot;geometry&quot;: {&quot;coordinates&quot;: [83.2822681, 27.70002095], &quot;type&quot;: &quot;Point&quot;}, &quot;properties&quot;: {&quot;changeset&quot;: 114336624, &quot;osm_id&quot;: 1007131097, &quot;tags&quot;: {&quot;building&quot;: &quot;yes&quot;}, &quot;timestamp&quot;: &quot;2021-11-28T20:30:59&quot;, &quot;version&quot;: 1}, &quot;type&quot;: &quot;Feature&quot;}, {&quot;geometry&quot;: {&quot;coordinates&quot;: [83.282191158, 27.700099819], &quot;type&quot;: &quot;Point&quot;}, &quot;properties&quot;: {&quot;changeset&quot;: 114336624, &quot;osm_id&quot;: 1007131096, &quot;tags&quot;: {&quot;building&quot;: &quot;yes&quot;}, &quot;timestamp&quot;: &quot;2021-11-28T20:30:59&quot;, &quot;version&quot;: 1}, &quot;type&quot;: &quot;Feature&quot;}, {&quot;geometry&quot;: {&quot;coordinates&quot;: [83.2819971, 27.70014445], &quot;type&quot;: &quot;Point&quot;}, &quot;properties&quot;: {&quot;changeset&quot;: 114336624, &quot;osm_id&quot;: 1007131095, &quot;tags&quot;: {&quot;building&quot;: &quot;yes&quot;}, &quot;timestamp&quot;: &quot;2021-11-28T20:30:59&quot;, &quot;version&quot;: 1}, &quot;type&quot;: &quot;Feature&quot;}, {&quot;geometry&quot;: {&quot;coordinates&quot;: [83.283723741, 27.700387475], &quot;type&quot;: &quot;Point&quot;}, &quot;properties&quot;: {&quot;changeset&quot;: 114336624, &quot;osm_id&quot;: 1007131080, &quot;tags&quot;: {&quot;building&quot;: &quot;yes&quot;}, &quot;timestamp&quot;: &quot;2021-11-28T20:30:59&quot;, &quot;version&quot;: 1}, &quot;type&quot;: &quot;Feature&quot;}, {&quot;geometry&quot;: {&quot;coordinates&quot;: [83.2837709, 27.700111], &quot;type&quot;: &quot;Point&quot;}, &quot;properties&quot;: {&quot;changeset&quot;: 114336624, &quot;osm_id&quot;: 1007131081, &quot;tags&quot;: {&quot;building&quot;: &quot;yes&quot;}, &quot;timestamp&quot;: &quot;2021-11-28T20:30:59&quot;, &quot;version&quot;: 1}, &quot;type&quot;: &quot;Feature&quot;}, {&quot;geometry&quot;: {&quot;coordinates&quot;: [83.283660286, 27.699472082], &quot;type&quot;: &quot;Point&quot;}, &quot;properties&quot;: {&quot;changeset&quot;: 114336624, &quot;osm_id&quot;: 1007131100, &quot;tags&quot;: {&quot;building&quot;: &quot;yes&quot;}, &quot;timestamp&quot;: &quot;2021-11-28T20:30:59&quot;, &quot;version&quot;: 1}, &quot;type&quot;: &quot;Feature&quot;}, {&quot;geometry&quot;: {&quot;coordinates&quot;: [83.28367715, 27.6995221], &quot;type&quot;: &quot;Point&quot;}, &quot;properties&quot;: {&quot;changeset&quot;: 114336624, &quot;osm_id&quot;: 1007131101, &quot;tags&quot;: {&quot;building&quot;: &quot;yes&quot;}, &quot;timestamp&quot;: &quot;2021-11-28T20:30:59&quot;, &quot;version&quot;: 1}, &quot;type&quot;: &quot;Feature&quot;}, {&quot;geometry&quot;: {&quot;coordinates&quot;: [83.283699957, 27.699588018], &quot;type&quot;: &quot;Point&quot;}, &quot;properties&quot;: {&quot;changeset&quot;: 114336624, &quot;osm_id&quot;: 1007131102, &quot;tags&quot;: {&quot;building&quot;: &quot;yes&quot;}, &quot;timestamp&quot;: &quot;2021-11-28T20:30:59&quot;, &quot;version&quot;: 1}, &quot;type&quot;: &quot;Feature&quot;}, {&quot;geometry&quot;: {&quot;coordinates&quot;: [83.283325157, 27.699655025], &quot;type&quot;: &quot;Point&quot;}, &quot;properties&quot;: {&quot;changeset&quot;: 114336624, &quot;osm_id&quot;: 1007131098, &quot;tags&quot;: {&quot;building&quot;: &quot;yes&quot;}, &quot;timestamp&quot;: &quot;2021-11-28T20:30:59&quot;, &quot;version&quot;: 1}, &quot;type&quot;: &quot;Feature&quot;}, {&quot;geometry&quot;: {&quot;coordinates&quot;: [83.28340092, 27.69951561], &quot;type&quot;: &quot;Point&quot;}, &quot;properties&quot;: {&quot;changeset&quot;: 114336624, &quot;osm_id&quot;: 1007131099, &quot;tags&quot;: {&quot;building&quot;: &quot;yes&quot;}, &quot;timestamp&quot;: &quot;2021-11-28T20:30:59&quot;, &quot;version&quot;: 1}, &quot;type&quot;: &quot;Feature&quot;}, {&quot;geometry&quot;: {&quot;coordinates&quot;: [83.283532395, 27.699420081], &quot;type&quot;: &quot;Point&quot;}, &quot;properties&quot;: {&quot;changeset&quot;: 114336624, &quot;osm_id&quot;: 1007131103, &quot;tags&quot;: {&quot;building&quot;: &quot;yes&quot;}, &quot;timestamp&quot;: &quot;2021-11-28T20:30:59&quot;, &quot;version&quot;: 1}, &quot;type&quot;: &quot;Feature&quot;}, {&quot;geometry&quot;: {&quot;coordinates&quot;: [83.283621369, 27.699370842], &quot;type&quot;: &quot;Point&quot;}, &quot;properties&quot;: {&quot;changeset&quot;: 114336624, &quot;osm_id&quot;: 1007131104, &quot;tags&quot;: {&quot;building&quot;: &quot;yes&quot;}, &quot;timestamp&quot;: &quot;2021-11-28T20:30:59&quot;, &quot;version&quot;: 1}, &quot;type&quot;: &quot;Feature&quot;}, {&quot;geometry&quot;: {&quot;coordinates&quot;: [83.282056482, 27.700310652], &quot;type&quot;: &quot;Point&quot;}, &quot;properties&quot;: {&quot;changeset&quot;: 114385577, &quot;osm_id&quot;: 1007530991, &quot;tags&quot;: {&quot;building&quot;: &quot;yes&quot;}, &quot;timestamp&quot;: &quot;2021-11-30T04:48:25&quot;, &quot;version&quot;: 1}, &quot;type&quot;: &quot;Feature&quot;}, {&quot;geometry&quot;: {&quot;coordinates&quot;: [83.283665463, 27.700896324], &quot;type&quot;: &quot;Point&quot;}, &quot;properties&quot;: {&quot;changeset&quot;: 114385577, &quot;osm_id&quot;: 1007530996, &quot;tags&quot;: {&quot;building&quot;: &quot;yes&quot;}, &quot;timestamp&quot;: &quot;2021-11-30T04:48:25&quot;, &quot;version&quot;: 1}, &quot;type&quot;: &quot;Feature&quot;}, {&quot;geometry&quot;: {&quot;coordinates&quot;: [83.28241755, 27.70111955], &quot;type&quot;: &quot;Point&quot;}, &quot;properties&quot;: {&quot;changeset&quot;: 114385577, &quot;osm_id&quot;: 1007531005, &quot;tags&quot;: {&quot;building&quot;: &quot;yes&quot;}, &quot;timestamp&quot;: &quot;2021-11-30T04:48:25&quot;, &quot;version&quot;: 1}, &quot;type&quot;: &quot;Feature&quot;}, {&quot;geometry&quot;: {&quot;coordinates&quot;: [83.28197315, 27.7010686], &quot;type&quot;: &quot;Point&quot;}, &quot;properties&quot;: {&quot;changeset&quot;: 114385577, &quot;osm_id&quot;: 1007531008, &quot;tags&quot;: {&quot;building&quot;: &quot;yes&quot;}, &quot;timestamp&quot;: &quot;2021-11-30T04:48:25&quot;, &quot;version&quot;: 1}, &quot;type&quot;: &quot;Feature&quot;}, {&quot;geometry&quot;: {&quot;coordinates&quot;: [83.282785026, 27.701107655], &quot;type&quot;: &quot;Point&quot;}, &quot;properties&quot;: {&quot;changeset&quot;: 114385577, &quot;osm_id&quot;: 1007531001, &quot;tags&quot;: {&quot;building&quot;: &quot;yes&quot;}, &quot;timestamp&quot;: &quot;2021-11-30T04:48:25&quot;, &quot;version&quot;: 1}, &quot;type&quot;: &quot;Feature&quot;}, {&quot;geometry&quot;: {&quot;coordinates&quot;: [83.2838063, 27.6994115], &quot;type&quot;: &quot;Point&quot;}, &quot;properties&quot;: {&quot;changeset&quot;: 114385577, &quot;osm_id&quot;: 1007530981, &quot;tags&quot;: {&quot;building&quot;: &quot;yes&quot;}, &quot;timestamp&quot;: &quot;2021-11-30T04:48:25&quot;, &quot;version&quot;: 1}, &quot;type&quot;: &quot;Feature&quot;}, {&quot;geometry&quot;: {&quot;coordinates&quot;: [83.28376945, 27.6993075], &quot;type&quot;: &quot;Point&quot;}, &quot;properties&quot;: {&quot;changeset&quot;: 114385577, &quot;osm_id&quot;: 1007530982, &quot;tags&quot;: {&quot;building&quot;: &quot;yes&quot;}, &quot;timestamp&quot;: &quot;2021-11-30T04:48:25&quot;, &quot;version&quot;: 1}, &quot;type&quot;: &quot;Feature&quot;}, {&quot;geometry&quot;: {&quot;coordinates&quot;: [83.283764497, 27.699832882], &quot;type&quot;: &quot;Point&quot;}, &quot;properties&quot;: {&quot;changeset&quot;: 114385577, &quot;osm_id&quot;: 1007530986, &quot;tags&quot;: {&quot;building&quot;: &quot;yes&quot;}, &quot;timestamp&quot;: &quot;2021-11-30T04:48:25&quot;, &quot;version&quot;: 1}, &quot;type&quot;: &quot;Feature&quot;}, {&quot;geometry&quot;: {&quot;coordinates&quot;: [83.282807824, 27.699903063], &quot;type&quot;: &quot;Point&quot;}, &quot;properties&quot;: {&quot;changeset&quot;: 114385577, &quot;osm_id&quot;: 1007530988, &quot;tags&quot;: {&quot;building&quot;: &quot;yes&quot;}, &quot;timestamp&quot;: &quot;2021-11-30T04:48:25&quot;, &quot;version&quot;: 1}, &quot;type&quot;: &quot;Feature&quot;}, {&quot;geometry&quot;: {&quot;coordinates&quot;: [83.282868175, 27.699787887], &quot;type&quot;: &quot;Point&quot;}, &quot;properties&quot;: {&quot;changeset&quot;: 114385577, &quot;osm_id&quot;: 1007530989, &quot;tags&quot;: {&quot;building&quot;: &quot;yes&quot;}, &quot;timestamp&quot;: &quot;2021-11-30T04:48:25&quot;, &quot;version&quot;: 1}, &quot;type&quot;: &quot;Feature&quot;}, {&quot;geometry&quot;: {&quot;coordinates&quot;: [83.28376135, 27.7008322], &quot;type&quot;: &quot;Point&quot;}, &quot;properties&quot;: {&quot;changeset&quot;: 114385577, &quot;osm_id&quot;: 1007530997, &quot;tags&quot;: {&quot;building&quot;: &quot;yes&quot;}, &quot;timestamp&quot;: &quot;2021-11-30T04:48:25&quot;, &quot;version&quot;: 1}, &quot;type&quot;: &quot;Feature&quot;}, {&quot;geometry&quot;: {&quot;coordinates&quot;: [83.282129476, 27.701180957], &quot;type&quot;: &quot;Point&quot;}, &quot;properties&quot;: {&quot;changeset&quot;: 114385577, &quot;osm_id&quot;: 1007531007, &quot;tags&quot;: {&quot;building&quot;: &quot;yes&quot;}, &quot;timestamp&quot;: &quot;2021-11-30T04:48:25&quot;, &quot;version&quot;: 1}, &quot;type&quot;: &quot;Feature&quot;}, {&quot;geometry&quot;: {&quot;coordinates&quot;: [83.2828759, 27.70109605], &quot;type&quot;: &quot;Point&quot;}, &quot;properties&quot;: {&quot;changeset&quot;: 114385577, &quot;osm_id&quot;: 1007531004, &quot;tags&quot;: {&quot;building&quot;: &quot;yes&quot;}, &quot;timestamp&quot;: &quot;2021-11-30T04:48:25&quot;, &quot;version&quot;: 1}, &quot;type&quot;: &quot;Feature&quot;}, {&quot;geometry&quot;: {&quot;coordinates&quot;: [83.28211495, 27.7012764], &quot;type&quot;: &quot;Point&quot;}, &quot;properties&quot;: {&quot;changeset&quot;: 114385577, &quot;osm_id&quot;: 1007531006, &quot;tags&quot;: {&quot;building&quot;: &quot;yes&quot;}, &quot;timestamp&quot;: &quot;2021-11-30T04:48:25&quot;, &quot;version&quot;: 1}, &quot;type&quot;: &quot;Feature&quot;}, {&quot;geometry&quot;: {&quot;coordinates&quot;: [83.282770269, 27.699824844], &quot;type&quot;: &quot;Point&quot;}, &quot;properties&quot;: {&quot;changeset&quot;: 114385577, &quot;osm_id&quot;: 1007530990, &quot;tags&quot;: {&quot;building&quot;: &quot;yes&quot;}, &quot;timestamp&quot;: &quot;2021-11-30T04:48:25&quot;, &quot;version&quot;: 1}, &quot;type&quot;: &quot;Feature&quot;}, {&quot;geometry&quot;: {&quot;coordinates&quot;: [83.28353405, 27.7008512], &quot;type&quot;: &quot;Point&quot;}, &quot;properties&quot;: {&quot;changeset&quot;: 114385577, &quot;osm_id&quot;: 1007530999, &quot;tags&quot;: {&quot;building&quot;: &quot;yes&quot;}, &quot;timestamp&quot;: &quot;2021-11-30T04:48:25&quot;, &quot;version&quot;: 1}, &quot;type&quot;: &quot;Feature&quot;}, {&quot;geometry&quot;: {&quot;coordinates&quot;: [83.28286749, 27.701000826], &quot;type&quot;: &quot;Point&quot;}, &quot;properties&quot;: {&quot;changeset&quot;: 114385577, &quot;osm_id&quot;: 1007531003, &quot;tags&quot;: {&quot;building&quot;: &quot;yes&quot;}, &quot;timestamp&quot;: &quot;2021-11-30T04:48:25&quot;, &quot;version&quot;: 1}, &quot;type&quot;: &quot;Feature&quot;}, {&quot;geometry&quot;: {&quot;coordinates&quot;: [83.281496239, 27.701172377], &quot;type&quot;: &quot;Point&quot;}, &quot;properties&quot;: {&quot;changeset&quot;: 114385577, &quot;osm_id&quot;: 1007531010, &quot;tags&quot;: {&quot;building&quot;: &quot;yes&quot;}, &quot;timestamp&quot;: &quot;2021-11-30T04:48:25&quot;, &quot;version&quot;: 1}, &quot;type&quot;: &quot;Feature&quot;}, {&quot;geometry&quot;: {&quot;coordinates&quot;: [83.28156865, 27.70107265], &quot;type&quot;: &quot;Point&quot;}, &quot;properties&quot;: {&quot;changeset&quot;: 114385577, &quot;osm_id&quot;: 1007531011, &quot;tags&quot;: {&quot;building&quot;: &quot;yes&quot;}, &quot;timestamp&quot;: &quot;2021-11-30T04:48:25&quot;, &quot;version&quot;: 1}, &quot;type&quot;: &quot;Feature&quot;}, {&quot;geometry&quot;: {&quot;coordinates&quot;: [83.280592051, 27.700717967], &quot;type&quot;: &quot;Point&quot;}, &quot;properties&quot;: {&quot;changeset&quot;: 114385577, &quot;osm_id&quot;: 1007531013, &quot;tags&quot;: {&quot;building&quot;: &quot;yes&quot;}, &quot;timestamp&quot;: &quot;2021-11-30T04:48:25&quot;, &quot;version&quot;: 1}, &quot;type&quot;: &quot;Feature&quot;}], &quot;type&quot;: &quot;FeatureCollection&quot;});\n",
       "\n",
       "        \n",
       "&lt;/script&gt;\n",
       "&lt;/html&gt;\" style=\"position:absolute;width:100%;height:100%;left:0;top:0;border:none !important;\" allowfullscreen webkitallowfullscreen mozallowfullscreen></iframe></div></div>"
      ],
      "text/plain": [
       "<folium.folium.Map at 0x7f07e0ccf280>"
      ]
     },
     "execution_count": 140,
     "metadata": {},
     "output_type": "execute_result"
    }
   ],
   "source": [
    "m.add_child(folium.GeoJson(data = data))"
   ]
  },
  {
   "cell_type": "code",
   "execution_count": 132,
   "id": "ca6ead91",
   "metadata": {},
   "outputs": [
    {
     "data": {
      "text/plain": [
       "0     26.912726\n",
       "1     26.610674\n",
       "2     27.130600\n",
       "3     27.109567\n",
       "4     27.615503\n",
       "        ...    \n",
       "95    26.844529\n",
       "96    27.303971\n",
       "97    28.040139\n",
       "98    27.048376\n",
       "99    26.543785\n",
       "Name: Lat, Length: 100, dtype: float64"
      ]
     },
     "execution_count": 132,
     "metadata": {},
     "output_type": "execute_result"
    }
   ],
   "source": [
    "center_point = [27, 83]\n",
    "\n",
    "data = (\n",
    "    np.random.normal(size=(100, 2)) *\n",
    "    np.array([[.5, .5]]) +\n",
    "    np.array([center_point])\n",
    ")\n",
    "\n",
    "df = pd.DataFrame(data, columns=['Lat', 'Long'])\n",
    "\n",
    "df['Lat']"
   ]
  },
  {
   "cell_type": "code",
   "execution_count": 123,
   "id": "2c06feb7",
   "metadata": {},
   "outputs": [
    {
     "ename": "TypeError",
     "evalue": "'str' object is not callable",
     "output_type": "error",
     "traceback": [
      "\u001b[0;31m---------------------------------------------------------------------------\u001b[0m",
      "\u001b[0;31mTypeError\u001b[0m                                 Traceback (most recent call last)",
      "Cell \u001b[0;32mIn[123], line 3\u001b[0m\n\u001b[1;32m      1\u001b[0m m \u001b[38;5;241m=\u001b[39m folium\u001b[38;5;241m.\u001b[39mMap(df[[\u001b[38;5;124m'\u001b[39m\u001b[38;5;124mLat\u001b[39m\u001b[38;5;124m'\u001b[39m, \u001b[38;5;124m'\u001b[39m\u001b[38;5;124mLong\u001b[39m\u001b[38;5;124m'\u001b[39m]]\u001b[38;5;241m.\u001b[39mmean()\u001b[38;5;241m.\u001b[39mvalues\u001b[38;5;241m.\u001b[39mtolist())\n\u001b[0;32m----> 3\u001b[0m \u001b[38;5;28;01mfor\u001b[39;00m lat, lon \u001b[38;5;129;01min\u001b[39;00m \u001b[38;5;28;43mzip\u001b[39;49m\u001b[43m(\u001b[49m\u001b[43mdf\u001b[49m\u001b[43m[\u001b[49m\u001b[38;5;124;43m'\u001b[39;49m\u001b[38;5;124;43mLat\u001b[39;49m\u001b[38;5;124;43m'\u001b[39;49m\u001b[43m]\u001b[49m\u001b[43m,\u001b[49m\u001b[43m \u001b[49m\u001b[43mdf\u001b[49m\u001b[43m[\u001b[49m\u001b[38;5;124;43m'\u001b[39;49m\u001b[38;5;124;43mLong\u001b[39;49m\u001b[38;5;124;43m'\u001b[39;49m\u001b[43m]\u001b[49m\u001b[43m)\u001b[49m:\n\u001b[1;32m      4\u001b[0m     folium\u001b[38;5;241m.\u001b[39mMarker([lat, lon])\u001b[38;5;241m.\u001b[39madd_to(m)\n",
      "\u001b[0;31mTypeError\u001b[0m: 'str' object is not callable"
     ]
    }
   ],
   "source": [
    "m = folium.Map(df[['Lat', 'Long']].mean().values.tolist())\n",
    "\n",
    "for lat, lon in zip(df['Lat'], df['Long']):\n",
    "    folium.Marker([lat, lon]).add_to(m)"
   ]
  },
  {
   "cell_type": "code",
   "execution_count": null,
   "id": "8ad70b83",
   "metadata": {},
   "outputs": [],
   "source": []
  }
 ],
 "metadata": {
  "kernelspec": {
   "display_name": "Python 3 (ipykernel)",
   "language": "python",
   "name": "python3"
  },
  "language_info": {
   "codemirror_mode": {
    "name": "ipython",
    "version": 3
   },
   "file_extension": ".py",
   "mimetype": "text/x-python",
   "name": "python",
   "nbconvert_exporter": "python",
   "pygments_lexer": "ipython3",
   "version": "3.10.6"
  }
 },
 "nbformat": 4,
 "nbformat_minor": 5
}
